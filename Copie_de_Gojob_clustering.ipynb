{
  "nbformat": 4,
  "nbformat_minor": 0,
  "metadata": {
    "colab": {
      "name": "Copie de Gojob_clustering.ipynb",
      "provenance": [],
      "collapsed_sections": [],
      "toc_visible": true,
      "machine_shape": "hm"
    },
    "kernelspec": {
      "name": "python3",
      "display_name": "Python 3"
    },
    "accelerator": "GPU"
  },
  "cells": [
    {
      "cell_type": "markdown",
      "metadata": {
        "id": "Mng-6YxEFico",
        "colab_type": "text"
      },
      "source": [
        "Voici mon notebook sur le projet de test proposé par GoJob.\n",
        "Le but est de regrouper en clusters les différents profils de worker.\n",
        "Pour les tâches de NLP, j'utilise *SpaCy* et *re*, tandis que la partie clustering sera faites avec *sklearn* et *CoClust*.\n"
      ]
    },
    {
      "cell_type": "code",
      "metadata": {
        "id": "F_KRcnMPADu8",
        "colab_type": "code",
        "outputId": "5348de75-698b-4f31-d97e-6350c05f96da",
        "colab": {
          "base_uri": "https://localhost:8080/",
          "height": 442
        }
      },
      "source": [
        "!python -m spacy download fr_core_news_md"
      ],
      "execution_count": 1,
      "outputs": [
        {
          "output_type": "stream",
          "text": [
            "Requirement already satisfied: fr_core_news_md==2.2.5 from https://github.com/explosion/spacy-models/releases/download/fr_core_news_md-2.2.5/fr_core_news_md-2.2.5.tar.gz#egg=fr_core_news_md==2.2.5 in /usr/local/lib/python3.6/dist-packages (2.2.5)\n",
            "Requirement already satisfied: spacy>=2.2.2 in /usr/local/lib/python3.6/dist-packages (from fr_core_news_md==2.2.5) (2.2.4)\n",
            "Requirement already satisfied: numpy>=1.15.0 in /usr/local/lib/python3.6/dist-packages (from spacy>=2.2.2->fr_core_news_md==2.2.5) (1.18.3)\n",
            "Requirement already satisfied: preshed<3.1.0,>=3.0.2 in /usr/local/lib/python3.6/dist-packages (from spacy>=2.2.2->fr_core_news_md==2.2.5) (3.0.2)\n",
            "Requirement already satisfied: wasabi<1.1.0,>=0.4.0 in /usr/local/lib/python3.6/dist-packages (from spacy>=2.2.2->fr_core_news_md==2.2.5) (0.6.0)\n",
            "Requirement already satisfied: plac<1.2.0,>=0.9.6 in /usr/local/lib/python3.6/dist-packages (from spacy>=2.2.2->fr_core_news_md==2.2.5) (1.1.3)\n",
            "Requirement already satisfied: cymem<2.1.0,>=2.0.2 in /usr/local/lib/python3.6/dist-packages (from spacy>=2.2.2->fr_core_news_md==2.2.5) (2.0.3)\n",
            "Requirement already satisfied: tqdm<5.0.0,>=4.38.0 in /usr/local/lib/python3.6/dist-packages (from spacy>=2.2.2->fr_core_news_md==2.2.5) (4.38.0)\n",
            "Requirement already satisfied: thinc==7.4.0 in /usr/local/lib/python3.6/dist-packages (from spacy>=2.2.2->fr_core_news_md==2.2.5) (7.4.0)\n",
            "Requirement already satisfied: setuptools in /usr/local/lib/python3.6/dist-packages (from spacy>=2.2.2->fr_core_news_md==2.2.5) (46.1.3)\n",
            "Requirement already satisfied: blis<0.5.0,>=0.4.0 in /usr/local/lib/python3.6/dist-packages (from spacy>=2.2.2->fr_core_news_md==2.2.5) (0.4.1)\n",
            "Requirement already satisfied: murmurhash<1.1.0,>=0.28.0 in /usr/local/lib/python3.6/dist-packages (from spacy>=2.2.2->fr_core_news_md==2.2.5) (1.0.2)\n",
            "Requirement already satisfied: catalogue<1.1.0,>=0.0.7 in /usr/local/lib/python3.6/dist-packages (from spacy>=2.2.2->fr_core_news_md==2.2.5) (1.0.0)\n",
            "Requirement already satisfied: requests<3.0.0,>=2.13.0 in /usr/local/lib/python3.6/dist-packages (from spacy>=2.2.2->fr_core_news_md==2.2.5) (2.21.0)\n",
            "Requirement already satisfied: srsly<1.1.0,>=1.0.2 in /usr/local/lib/python3.6/dist-packages (from spacy>=2.2.2->fr_core_news_md==2.2.5) (1.0.2)\n",
            "Requirement already satisfied: importlib-metadata>=0.20; python_version < \"3.8\" in /usr/local/lib/python3.6/dist-packages (from catalogue<1.1.0,>=0.0.7->spacy>=2.2.2->fr_core_news_md==2.2.5) (1.6.0)\n",
            "Requirement already satisfied: certifi>=2017.4.17 in /usr/local/lib/python3.6/dist-packages (from requests<3.0.0,>=2.13.0->spacy>=2.2.2->fr_core_news_md==2.2.5) (2020.4.5.1)\n",
            "Requirement already satisfied: chardet<3.1.0,>=3.0.2 in /usr/local/lib/python3.6/dist-packages (from requests<3.0.0,>=2.13.0->spacy>=2.2.2->fr_core_news_md==2.2.5) (3.0.4)\n",
            "Requirement already satisfied: urllib3<1.25,>=1.21.1 in /usr/local/lib/python3.6/dist-packages (from requests<3.0.0,>=2.13.0->spacy>=2.2.2->fr_core_news_md==2.2.5) (1.24.3)\n",
            "Requirement already satisfied: idna<2.9,>=2.5 in /usr/local/lib/python3.6/dist-packages (from requests<3.0.0,>=2.13.0->spacy>=2.2.2->fr_core_news_md==2.2.5) (2.8)\n",
            "Requirement already satisfied: zipp>=0.5 in /usr/local/lib/python3.6/dist-packages (from importlib-metadata>=0.20; python_version < \"3.8\"->catalogue<1.1.0,>=0.0.7->spacy>=2.2.2->fr_core_news_md==2.2.5) (3.1.0)\n",
            "\u001b[38;5;2m✔ Download and installation successful\u001b[0m\n",
            "You can now load the model via spacy.load('fr_core_news_md')\n"
          ],
          "name": "stdout"
        }
      ]
    },
    {
      "cell_type": "code",
      "metadata": {
        "id": "rQoObQb_SKY7",
        "colab_type": "code",
        "colab": {
          "base_uri": "https://localhost:8080/",
          "height": 72
        },
        "outputId": "e5749b8e-8df3-4b54-e047-631255722872"
      },
      "source": [
        "import pandas as pd\n",
        "import numpy as np\n",
        "from sklearn.feature_extraction.text import TfidfVectorizer\n",
        "from sklearn.cluster import KMeans\n",
        "from sklearn.metrics import adjusted_rand_score\n",
        "import matplotlib.pyplot as plt\n",
        "import spacy\n",
        "import re\n",
        "import seaborn as sns\n",
        "nlp = spacy.load('fr_core_news_md')"
      ],
      "execution_count": 2,
      "outputs": [
        {
          "output_type": "stream",
          "text": [
            "/usr/local/lib/python3.6/dist-packages/statsmodels/tools/_testing.py:19: FutureWarning: pandas.util.testing is deprecated. Use the functions in the public API at pandas.testing instead.\n",
            "  import pandas.util.testing as tm\n"
          ],
          "name": "stderr"
        }
      ]
    },
    {
      "cell_type": "markdown",
      "metadata": {
        "id": "nFO7GwnXGMNY",
        "colab_type": "text"
      },
      "source": [
        "## Data import"
      ]
    },
    {
      "cell_type": "code",
      "metadata": {
        "id": "IGBVXnqNSWbn",
        "colab_type": "code",
        "outputId": "aab62acb-9fe8-41fe-d521-d0e9bc1fd37d",
        "colab": {
          "base_uri": "https://localhost:8080/",
          "height": 417
        }
      },
      "source": [
        "raw_dataset = pd.read_csv('/content/drive/My Drive/EMA/Stage/gojob/worker_profession.csv')\n",
        "raw_dataset"
      ],
      "execution_count": 3,
      "outputs": [
        {
          "output_type": "execute_result",
          "data": {
            "text/html": [
              "<div>\n",
              "<style scoped>\n",
              "    .dataframe tbody tr th:only-of-type {\n",
              "        vertical-align: middle;\n",
              "    }\n",
              "\n",
              "    .dataframe tbody tr th {\n",
              "        vertical-align: top;\n",
              "    }\n",
              "\n",
              "    .dataframe thead th {\n",
              "        text-align: right;\n",
              "    }\n",
              "</style>\n",
              "<table border=\"1\" class=\"dataframe\">\n",
              "  <thead>\n",
              "    <tr style=\"text-align: right;\">\n",
              "      <th></th>\n",
              "      <th>worker_id</th>\n",
              "      <th>list_professions</th>\n",
              "    </tr>\n",
              "  </thead>\n",
              "  <tbody>\n",
              "    <tr>\n",
              "      <th>0</th>\n",
              "      <td>52754c03-3853-485b-8cc2-95c53684675c</td>\n",
              "      <td>Electricien |1;Cariste |107;Employé contact cl...</td>\n",
              "    </tr>\n",
              "    <tr>\n",
              "      <th>1</th>\n",
              "      <td>eeb85a73-0801-4206-bf9a-17dfa8bb3ae6</td>\n",
              "      <td>Préparateur de commandes |22;Ouvrier d'exécuti...</td>\n",
              "    </tr>\n",
              "    <tr>\n",
              "      <th>2</th>\n",
              "      <td>9dafeedd-8228-4543-abfd-a3ded0db696d</td>\n",
              "      <td>Assistant polyvalent / Secrétaire |13;Employé ...</td>\n",
              "    </tr>\n",
              "    <tr>\n",
              "      <th>3</th>\n",
              "      <td>15ce0846-1241-4d14-9ed8-2292efaa386d</td>\n",
              "      <td>Mécanicien |22;Peintre |10;Ouvrier d'exécution...</td>\n",
              "    </tr>\n",
              "    <tr>\n",
              "      <th>4</th>\n",
              "      <td>d40d5dce-3274-488b-a3f1-9947885fd94b</td>\n",
              "      <td>Ouvrier d'exécution polyvalent |0;Préparateur ...</td>\n",
              "    </tr>\n",
              "    <tr>\n",
              "      <th>...</th>\n",
              "      <td>...</td>\n",
              "      <td>...</td>\n",
              "    </tr>\n",
              "    <tr>\n",
              "      <th>28443</th>\n",
              "      <td>e87244a8-af6e-408b-914a-f72bce50ac95</td>\n",
              "      <td>Ouvrier d'exécution polyvalent |0;RH |0;Employ...</td>\n",
              "    </tr>\n",
              "    <tr>\n",
              "      <th>28444</th>\n",
              "      <td>1eb57f55-3700-4b51-aed6-77ac6c7d8162</td>\n",
              "      <td>Ouvrier d'exécution en milieu difficile |0;Ass...</td>\n",
              "    </tr>\n",
              "    <tr>\n",
              "      <th>28445</th>\n",
              "      <td>368cf021-c41f-4219-8ded-fe661b3592b3</td>\n",
              "      <td>Ouvrier d'exécution polyvalent |0;Assistant de...</td>\n",
              "    </tr>\n",
              "    <tr>\n",
              "      <th>28446</th>\n",
              "      <td>e54298d9-fa05-4a5e-8c0a-9521cc3e35df</td>\n",
              "      <td>Serveur et barman |5;Ouvrier d'exécution polyv...</td>\n",
              "    </tr>\n",
              "    <tr>\n",
              "      <th>28447</th>\n",
              "      <td>82a3c631-6641-4627-a7a8-2e6ed1da3d2c</td>\n",
              "      <td>Employé contact clientèle |0;Acheteur |210;Com...</td>\n",
              "    </tr>\n",
              "  </tbody>\n",
              "</table>\n",
              "<p>28448 rows × 2 columns</p>\n",
              "</div>"
            ],
            "text/plain": [
              "                                  worker_id                                   list_professions\n",
              "0      52754c03-3853-485b-8cc2-95c53684675c  Electricien |1;Cariste |107;Employé contact cl...\n",
              "1      eeb85a73-0801-4206-bf9a-17dfa8bb3ae6  Préparateur de commandes |22;Ouvrier d'exécuti...\n",
              "2      9dafeedd-8228-4543-abfd-a3ded0db696d  Assistant polyvalent / Secrétaire |13;Employé ...\n",
              "3      15ce0846-1241-4d14-9ed8-2292efaa386d  Mécanicien |22;Peintre |10;Ouvrier d'exécution...\n",
              "4      d40d5dce-3274-488b-a3f1-9947885fd94b  Ouvrier d'exécution polyvalent |0;Préparateur ...\n",
              "...                                     ...                                                ...\n",
              "28443  e87244a8-af6e-408b-914a-f72bce50ac95  Ouvrier d'exécution polyvalent |0;RH |0;Employ...\n",
              "28444  1eb57f55-3700-4b51-aed6-77ac6c7d8162  Ouvrier d'exécution en milieu difficile |0;Ass...\n",
              "28445  368cf021-c41f-4219-8ded-fe661b3592b3  Ouvrier d'exécution polyvalent |0;Assistant de...\n",
              "28446  e54298d9-fa05-4a5e-8c0a-9521cc3e35df  Serveur et barman |5;Ouvrier d'exécution polyv...\n",
              "28447  82a3c631-6641-4627-a7a8-2e6ed1da3d2c  Employé contact clientèle |0;Acheteur |210;Com...\n",
              "\n",
              "[28448 rows x 2 columns]"
            ]
          },
          "metadata": {
            "tags": []
          },
          "execution_count": 3
        }
      ]
    },
    {
      "cell_type": "code",
      "metadata": {
        "id": "X7s0mYQ4atfy",
        "colab_type": "code",
        "outputId": "1ab3dc37-47b7-4a4f-9628-d490ad985922",
        "colab": {
          "base_uri": "https://localhost:8080/",
          "height": 35
        }
      },
      "source": [
        "# checking the type of the elements in list_professions\n",
        "type(raw_dataset['list_professions'][0])"
      ],
      "execution_count": 4,
      "outputs": [
        {
          "output_type": "execute_result",
          "data": {
            "text/plain": [
              "str"
            ]
          },
          "metadata": {
            "tags": []
          },
          "execution_count": 4
        }
      ]
    },
    {
      "cell_type": "markdown",
      "metadata": {
        "id": "Uw7jigTKGiuI",
        "colab_type": "text"
      },
      "source": [
        "Il est nécessaire de travailler sur `list_professions` car on constate que les données ne sont pas exploitables en tant que telle.\n",
        "Mon idée est de séparer dans deux colonnes différentes la liste des professions effectuées et les mois d'expériences pour chaque profession."
      ]
    },
    {
      "cell_type": "markdown",
      "metadata": {
        "id": "VyNYQVgCM5_H",
        "colab_type": "text"
      },
      "source": [
        "### Dealing with NaN values"
      ]
    },
    {
      "cell_type": "code",
      "metadata": {
        "id": "P3Tdq21tM-Uj",
        "colab_type": "code",
        "outputId": "550ab503-eb5e-4abc-d4c6-451070ad6810",
        "colab": {
          "base_uri": "https://localhost:8080/",
          "height": 172
        }
      },
      "source": [
        "# check for nan values\n",
        "bool_series = pd.isnull(raw_dataset['list_professions'])  \n",
        "raw_dataset[bool_series]"
      ],
      "execution_count": 4,
      "outputs": [
        {
          "output_type": "execute_result",
          "data": {
            "text/html": [
              "<div>\n",
              "<style scoped>\n",
              "    .dataframe tbody tr th:only-of-type {\n",
              "        vertical-align: middle;\n",
              "    }\n",
              "\n",
              "    .dataframe tbody tr th {\n",
              "        vertical-align: top;\n",
              "    }\n",
              "\n",
              "    .dataframe thead th {\n",
              "        text-align: right;\n",
              "    }\n",
              "</style>\n",
              "<table border=\"1\" class=\"dataframe\">\n",
              "  <thead>\n",
              "    <tr style=\"text-align: right;\">\n",
              "      <th></th>\n",
              "      <th>worker_id</th>\n",
              "      <th>list_professions</th>\n",
              "    </tr>\n",
              "  </thead>\n",
              "  <tbody>\n",
              "    <tr>\n",
              "      <th>15417</th>\n",
              "      <td>4da26848-b5df-4f6c-b702-fe58e5d06ab9</td>\n",
              "      <td>NaN</td>\n",
              "    </tr>\n",
              "    <tr>\n",
              "      <th>17955</th>\n",
              "      <td>dbfa02f5-9b76-46a7-b39d-563d61ed168e</td>\n",
              "      <td>NaN</td>\n",
              "    </tr>\n",
              "    <tr>\n",
              "      <th>21924</th>\n",
              "      <td>05d645f1-5406-49ce-8da7-604940125113</td>\n",
              "      <td>NaN</td>\n",
              "    </tr>\n",
              "    <tr>\n",
              "      <th>23431</th>\n",
              "      <td>d7afab4f-b53d-431a-81cc-4e21ba3fabf8</td>\n",
              "      <td>NaN</td>\n",
              "    </tr>\n",
              "  </tbody>\n",
              "</table>\n",
              "</div>"
            ],
            "text/plain": [
              "                                  worker_id list_professions\n",
              "15417  4da26848-b5df-4f6c-b702-fe58e5d06ab9              NaN\n",
              "17955  dbfa02f5-9b76-46a7-b39d-563d61ed168e              NaN\n",
              "21924  05d645f1-5406-49ce-8da7-604940125113              NaN\n",
              "23431  d7afab4f-b53d-431a-81cc-4e21ba3fabf8              NaN"
            ]
          },
          "metadata": {
            "tags": []
          },
          "execution_count": 4
        }
      ]
    },
    {
      "cell_type": "markdown",
      "metadata": {
        "id": "iqovTDbLPvmp",
        "colab_type": "text"
      },
      "source": [
        "On constate qu'il y a 4 valeurs NA, soit un problème de collection de données soit que ces personnes n'ont jamais travaillé\n",
        ".\n",
        "2 solutions s'offrent à nous : \n",
        "* remplacer la valeur manquante par une catégorie pour ces 4 personnes (jamais travaillé, chomage, etc...)\n",
        "* considérer que vu qu'il n'y as que 4 personnes concernées parmis les 28 000 du dataset, supprimer ces 4 profils. \n",
        "\n",
        "Je choisi de supprimer ces 4 profils, mais je suis conscient que dans la réalité, il faudrait trouver une autre solution pour les personnes avec ce type de profil. "
      ]
    },
    {
      "cell_type": "code",
      "metadata": {
        "id": "vDOeQrt8QsDd",
        "colab_type": "code",
        "outputId": "1e6cf624-46d5-49a1-f43d-3a20688e5df2",
        "colab": {
          "base_uri": "https://localhost:8080/",
          "height": 140
        }
      },
      "source": [
        "mod_dataset = raw_dataset.dropna()\n",
        "print(len(raw_dataset), len(mod_dataset))\n",
        "professions = mod_dataset['list_professions']\n",
        "professions.head()"
      ],
      "execution_count": 5,
      "outputs": [
        {
          "output_type": "stream",
          "text": [
            "28448 28444\n"
          ],
          "name": "stdout"
        },
        {
          "output_type": "execute_result",
          "data": {
            "text/plain": [
              "0    Electricien |1;Cariste |107;Employé contact cl...\n",
              "1    Préparateur de commandes |22;Ouvrier d'exécuti...\n",
              "2    Assistant polyvalent / Secrétaire |13;Employé ...\n",
              "3    Mécanicien |22;Peintre |10;Ouvrier d'exécution...\n",
              "4    Ouvrier d'exécution polyvalent |0;Préparateur ...\n",
              "Name: list_professions, dtype: object"
            ]
          },
          "metadata": {
            "tags": []
          },
          "execution_count": 5
        }
      ]
    },
    {
      "cell_type": "markdown",
      "metadata": {
        "id": "cUvfThMQ_BNZ",
        "colab_type": "text"
      },
      "source": [
        "### Création d'un dataframe plus lisible\n",
        "Utile pour conserver l'information de l'expérience d'une personne dans un job précis.\n",
        "\n",
        "Il est nécessaire de travailler sur `list_professions` afin de pouvoir exploiter les données correctement.\n",
        "\n"
      ]
    },
    {
      "cell_type": "code",
      "metadata": {
        "id": "hgNaT4g2OAhb",
        "colab_type": "code",
        "colab": {}
      },
      "source": [
        "professions_splitted = pd.DataFrame.copy(professions)"
      ],
      "execution_count": 0,
      "outputs": []
    },
    {
      "cell_type": "code",
      "metadata": {
        "id": "5hnMAl4xMfdO",
        "colab_type": "code",
        "outputId": "1ba41ef3-f6e0-4e6c-aa64-07ec16170388",
        "colab": {
          "base_uri": "https://localhost:8080/",
          "height": 35
        }
      },
      "source": [
        "# splitting the professions so it's easier to access an element\n",
        " for idx in professions.index:\n",
        "  professions_splitted[idx] = re.split(r\"[;]\", professions_splitted[idx])\n",
        "  professions_splitted[idx] = ', '.join([str(elem) for elem in professions_splitted[idx]])\n",
        "  professions_splitted[idx] = re.sub('[|]', '', professions_splitted[idx])\n",
        "  professions_splitted[idx] = professions_splitted[idx].replace(' /', '')\n",
        "  professions_splitted[idx] = re.sub('[-]', '_', professions_splitted[idx])\n",
        "\n",
        "professions_splitted[173]"
      ],
      "execution_count": 7,
      "outputs": [
        {
          "output_type": "execute_result",
          "data": {
            "text/plain": [
              "'Expert_comptable 0, Comptable général 11, Assistant comptable 0, Hotliner 13, Employé de bureau 0, Employé contact clientèle 0'"
            ]
          },
          "metadata": {
            "tags": []
          },
          "execution_count": 7
        }
      ]
    },
    {
      "cell_type": "markdown",
      "metadata": {
        "id": "GDKU1jctHA2N",
        "colab_type": "text"
      },
      "source": [
        "Création de deux foncions qui me seront utiles pour créer les nouvelles listes à utiliser.\n",
        "*  **tokenization** sera utile pour tokeniser la chaine de charactères de professions d'un worker en supprimant les \"stop word\", ce qui permet de simplifier le vocabulaire. \n",
        ">J'ai pensé à lemmatiser les mots afin de diminuer le nombre de mots différents mais j'ai décidé que ce n'était pas forcément nécessaire.\n",
        "\n",
        "* **experience_finder**: permet d'obtenir deux listes, une des professions effectuées par un worker et l'autre des expériences dans ces professions.\n",
        "\n",
        "  "
      ]
    },
    {
      "cell_type": "code",
      "metadata": {
        "id": "TMj44reQL-BV",
        "colab_type": "code",
        "colab": {}
      },
      "source": [
        "def tokenization(document):\n",
        "  tokens = nlp(document)\n",
        "  filtered_tokens = []\n",
        "  for token in tokens:\n",
        "    if not token.is_stop:\n",
        "      filtered_tokens.append(token)\n",
        "  return(filtered_tokens)\n"
      ],
      "execution_count": 0,
      "outputs": []
    },
    {
      "cell_type": "code",
      "metadata": {
        "id": "FLldS1dHM00g",
        "colab_type": "code",
        "colab": {}
      },
      "source": [
        "def experience_finder(tokens):\n",
        "  experiences = []\n",
        "  jobs = []\n",
        "  job_string = ''\n",
        "  for token in tokens:\n",
        "    if token.is_digit:\n",
        "      experiences.append(token)\n",
        "\n",
        "    else:\n",
        "      if not token.is_punct:\n",
        "        job_string += token.text + ' '\n",
        "\n",
        "      if token.is_punct:\n",
        "        jobs.append(job_string)\n",
        "        job_string = ''\n",
        "        \n",
        "  jobs.append(job_string)\n",
        "  return(jobs, experiences)\n"
      ],
      "execution_count": 0,
      "outputs": []
    },
    {
      "cell_type": "markdown",
      "metadata": {
        "id": "LntjRDurH_rP",
        "colab_type": "text"
      },
      "source": [
        "On créer maintenant un dataframe avec ces deux nouvelles listes pour chaque worker, afin que les données soient plus lisibles."
      ]
    },
    {
      "cell_type": "code",
      "metadata": {
        "id": "RjPxPXvgJu9F",
        "colab_type": "code",
        "colab": {}
      },
      "source": [
        "professions_tokenized = pd.DataFrame.copy(professions_splitted)\n",
        "experiences_splitted = []\n",
        "\n",
        "for idx in professions_tokenized.index:\n",
        "  tokenized = tokenization(professions_tokenized[idx])\n",
        "  jobs, experience = experience_finder(tokenized)\n",
        "  experiences_splitted.append(experience)\n",
        "  professions_tokenized[idx] = jobs\n",
        "d = {'nb_months': experiences_splitted}\n",
        "experiences_df = pd.DataFrame(d)\n"
      ],
      "execution_count": 0,
      "outputs": []
    },
    {
      "cell_type": "code",
      "metadata": {
        "id": "cWDqqhQ5kfRJ",
        "colab_type": "code",
        "colab": {}
      },
      "source": [
        "experiences_df.index = professions_tokenized.index"
      ],
      "execution_count": 0,
      "outputs": []
    },
    {
      "cell_type": "code",
      "metadata": {
        "id": "-LxWSgWtYbw7",
        "colab_type": "code",
        "outputId": "abc9ef33-0c6c-4a4c-b04a-857810aed9b3",
        "colab": {
          "base_uri": "https://localhost:8080/",
          "height": 417
        }
      },
      "source": [
        "workers = pd.DataFrame.copy(mod_dataset)\n",
        "workers['list_professions'] = professions_tokenized\n",
        "cleaned_workers = pd.concat([workers, experiences_df], axis=1)\n",
        "cleaned_workers"
      ],
      "execution_count": 17,
      "outputs": [
        {
          "output_type": "execute_result",
          "data": {
            "text/html": [
              "<div>\n",
              "<style scoped>\n",
              "    .dataframe tbody tr th:only-of-type {\n",
              "        vertical-align: middle;\n",
              "    }\n",
              "\n",
              "    .dataframe tbody tr th {\n",
              "        vertical-align: top;\n",
              "    }\n",
              "\n",
              "    .dataframe thead th {\n",
              "        text-align: right;\n",
              "    }\n",
              "</style>\n",
              "<table border=\"1\" class=\"dataframe\">\n",
              "  <thead>\n",
              "    <tr style=\"text-align: right;\">\n",
              "      <th></th>\n",
              "      <th>worker_id</th>\n",
              "      <th>list_professions</th>\n",
              "      <th>nb_months</th>\n",
              "    </tr>\n",
              "  </thead>\n",
              "  <tbody>\n",
              "    <tr>\n",
              "      <th>0</th>\n",
              "      <td>52754c03-3853-485b-8cc2-95c53684675c</td>\n",
              "      <td>[Electricien , Cariste , Employé contact clien...</td>\n",
              "      <td>[1, 107, 0, 1, 27, 0, 0, 0]</td>\n",
              "    </tr>\n",
              "    <tr>\n",
              "      <th>1</th>\n",
              "      <td>eeb85a73-0801-4206-bf9a-17dfa8bb3ae6</td>\n",
              "      <td>[Préparateur commandes , Ouvrier exécution pol...</td>\n",
              "      <td>[22, 0, 19, 0, 19, 0, 0]</td>\n",
              "    </tr>\n",
              "    <tr>\n",
              "      <th>2</th>\n",
              "      <td>9dafeedd-8228-4543-abfd-a3ded0db696d</td>\n",
              "      <td>[Assistant polyvalent Secrétaire , Employé con...</td>\n",
              "      <td>[13, 0, 0, 0, 0]</td>\n",
              "    </tr>\n",
              "    <tr>\n",
              "      <th>3</th>\n",
              "      <td>15ce0846-1241-4d14-9ed8-2292efaa386d</td>\n",
              "      <td>[Mécanicien , Peintre , Ouvrier exécution mili...</td>\n",
              "      <td>[22, 10, 0, 26, 5]</td>\n",
              "    </tr>\n",
              "    <tr>\n",
              "      <th>4</th>\n",
              "      <td>d40d5dce-3274-488b-a3f1-9947885fd94b</td>\n",
              "      <td>[Ouvrier exécution polyvalent , Préparateur co...</td>\n",
              "      <td>[0, 16, 0, 0, 0]</td>\n",
              "    </tr>\n",
              "    <tr>\n",
              "      <th>...</th>\n",
              "      <td>...</td>\n",
              "      <td>...</td>\n",
              "      <td>...</td>\n",
              "    </tr>\n",
              "    <tr>\n",
              "      <th>28443</th>\n",
              "      <td>e87244a8-af6e-408b-914a-f72bce50ac95</td>\n",
              "      <td>[Ouvrier exécution polyvalent , RH , Employé b...</td>\n",
              "      <td>[0, 0, 0, 17, 0, 0]</td>\n",
              "    </tr>\n",
              "    <tr>\n",
              "      <th>28444</th>\n",
              "      <td>1eb57f55-3700-4b51-aed6-77ac6c7d8162</td>\n",
              "      <td>[Ouvrier exécution milieu difficile , Assistan...</td>\n",
              "      <td>[0, 0, 0, 10, 0, 7, 15, 0]</td>\n",
              "    </tr>\n",
              "    <tr>\n",
              "      <th>28445</th>\n",
              "      <td>368cf021-c41f-4219-8ded-fe661b3592b3</td>\n",
              "      <td>[Ouvrier exécution polyvalent , Assistant dire...</td>\n",
              "      <td>[0, 0, 45, 0, 0, 0]</td>\n",
              "    </tr>\n",
              "    <tr>\n",
              "      <th>28446</th>\n",
              "      <td>e54298d9-fa05-4a5e-8c0a-9521cc3e35df</td>\n",
              "      <td>[Serveur barman , Ouvrier exécution polyvalent...</td>\n",
              "      <td>[5, 0, 0, 0, 0, 0]</td>\n",
              "    </tr>\n",
              "    <tr>\n",
              "      <th>28447</th>\n",
              "      <td>82a3c631-6641-4627-a7a8-2e6ed1da3d2c</td>\n",
              "      <td>[Employé contact clientèle , Acheteur , Compta...</td>\n",
              "      <td>[0, 210, 245, 0, 0, 0]</td>\n",
              "    </tr>\n",
              "  </tbody>\n",
              "</table>\n",
              "<p>28444 rows × 3 columns</p>\n",
              "</div>"
            ],
            "text/plain": [
              "                                  worker_id  ...                    nb_months\n",
              "0      52754c03-3853-485b-8cc2-95c53684675c  ...  [1, 107, 0, 1, 27, 0, 0, 0]\n",
              "1      eeb85a73-0801-4206-bf9a-17dfa8bb3ae6  ...     [22, 0, 19, 0, 19, 0, 0]\n",
              "2      9dafeedd-8228-4543-abfd-a3ded0db696d  ...             [13, 0, 0, 0, 0]\n",
              "3      15ce0846-1241-4d14-9ed8-2292efaa386d  ...           [22, 10, 0, 26, 5]\n",
              "4      d40d5dce-3274-488b-a3f1-9947885fd94b  ...             [0, 16, 0, 0, 0]\n",
              "...                                     ...  ...                          ...\n",
              "28443  e87244a8-af6e-408b-914a-f72bce50ac95  ...          [0, 0, 0, 17, 0, 0]\n",
              "28444  1eb57f55-3700-4b51-aed6-77ac6c7d8162  ...   [0, 0, 0, 10, 0, 7, 15, 0]\n",
              "28445  368cf021-c41f-4219-8ded-fe661b3592b3  ...          [0, 0, 45, 0, 0, 0]\n",
              "28446  e54298d9-fa05-4a5e-8c0a-9521cc3e35df  ...           [5, 0, 0, 0, 0, 0]\n",
              "28447  82a3c631-6641-4627-a7a8-2e6ed1da3d2c  ...       [0, 210, 245, 0, 0, 0]\n",
              "\n",
              "[28444 rows x 3 columns]"
            ]
          },
          "metadata": {
            "tags": []
          },
          "execution_count": 17
        }
      ]
    },
    {
      "cell_type": "markdown",
      "metadata": {
        "id": "2ImQLcF79UVB",
        "colab_type": "text"
      },
      "source": [
        "## Similarity between profiles"
      ]
    },
    {
      "cell_type": "markdown",
      "metadata": {
        "id": "aiww24e3IJPS",
        "colab_type": "text"
      },
      "source": [
        "Il est temps de passer à l'analyse de texte.\n",
        "Il est plus facile de travailler sur des chaines de caractères, je transforme donc `list_professions` en chaine de caractères."
      ]
    },
    {
      "cell_type": "code",
      "metadata": {
        "id": "Hciy7hUuvcq-",
        "colab_type": "code",
        "outputId": "f8d8eb78-fea9-4f98-ff32-4a4f5a2c0957",
        "colab": {
          "base_uri": "https://localhost:8080/",
          "height": 505
        }
      },
      "source": [
        "workers_sim = cleaned_workers[['worker_id', 'list_professions']]\n",
        "string_elt = ''\n",
        "for idx in workers_sim.index:\n",
        "  string_elt = ''\n",
        "  for elt in workers_sim['list_professions'][idx]:\n",
        "    string_elt += elt + ', '\n",
        "  workers_sim['list_professions'][idx] = string_elt\n",
        "\n",
        "workers_sim"
      ],
      "execution_count": 18,
      "outputs": [
        {
          "output_type": "stream",
          "text": [
            "/usr/local/lib/python3.6/dist-packages/IPython/core/interactiveshell.py:2882: SettingWithCopyWarning: \n",
            "A value is trying to be set on a copy of a slice from a DataFrame\n",
            "\n",
            "See the caveats in the documentation: https://pandas.pydata.org/pandas-docs/stable/user_guide/indexing.html#returning-a-view-versus-a-copy\n",
            "  exec(code_obj, self.user_global_ns, self.user_ns)\n"
          ],
          "name": "stderr"
        },
        {
          "output_type": "execute_result",
          "data": {
            "text/html": [
              "<div>\n",
              "<style scoped>\n",
              "    .dataframe tbody tr th:only-of-type {\n",
              "        vertical-align: middle;\n",
              "    }\n",
              "\n",
              "    .dataframe tbody tr th {\n",
              "        vertical-align: top;\n",
              "    }\n",
              "\n",
              "    .dataframe thead th {\n",
              "        text-align: right;\n",
              "    }\n",
              "</style>\n",
              "<table border=\"1\" class=\"dataframe\">\n",
              "  <thead>\n",
              "    <tr style=\"text-align: right;\">\n",
              "      <th></th>\n",
              "      <th>worker_id</th>\n",
              "      <th>list_professions</th>\n",
              "    </tr>\n",
              "  </thead>\n",
              "  <tbody>\n",
              "    <tr>\n",
              "      <th>0</th>\n",
              "      <td>52754c03-3853-485b-8cc2-95c53684675c</td>\n",
              "      <td>Electricien , Cariste , Employé contact client...</td>\n",
              "    </tr>\n",
              "    <tr>\n",
              "      <th>1</th>\n",
              "      <td>eeb85a73-0801-4206-bf9a-17dfa8bb3ae6</td>\n",
              "      <td>Préparateur commandes , Ouvrier exécution poly...</td>\n",
              "    </tr>\n",
              "    <tr>\n",
              "      <th>2</th>\n",
              "      <td>9dafeedd-8228-4543-abfd-a3ded0db696d</td>\n",
              "      <td>Assistant polyvalent Secrétaire , Employé cont...</td>\n",
              "    </tr>\n",
              "    <tr>\n",
              "      <th>3</th>\n",
              "      <td>15ce0846-1241-4d14-9ed8-2292efaa386d</td>\n",
              "      <td>Mécanicien , Peintre , Ouvrier exécution milie...</td>\n",
              "    </tr>\n",
              "    <tr>\n",
              "      <th>4</th>\n",
              "      <td>d40d5dce-3274-488b-a3f1-9947885fd94b</td>\n",
              "      <td>Ouvrier exécution polyvalent , Préparateur com...</td>\n",
              "    </tr>\n",
              "    <tr>\n",
              "      <th>...</th>\n",
              "      <td>...</td>\n",
              "      <td>...</td>\n",
              "    </tr>\n",
              "    <tr>\n",
              "      <th>28443</th>\n",
              "      <td>e87244a8-af6e-408b-914a-f72bce50ac95</td>\n",
              "      <td>Ouvrier exécution polyvalent , RH , Employé bu...</td>\n",
              "    </tr>\n",
              "    <tr>\n",
              "      <th>28444</th>\n",
              "      <td>1eb57f55-3700-4b51-aed6-77ac6c7d8162</td>\n",
              "      <td>Ouvrier exécution milieu difficile , Assistant...</td>\n",
              "    </tr>\n",
              "    <tr>\n",
              "      <th>28445</th>\n",
              "      <td>368cf021-c41f-4219-8ded-fe661b3592b3</td>\n",
              "      <td>Ouvrier exécution polyvalent , Assistant direc...</td>\n",
              "    </tr>\n",
              "    <tr>\n",
              "      <th>28446</th>\n",
              "      <td>e54298d9-fa05-4a5e-8c0a-9521cc3e35df</td>\n",
              "      <td>Serveur barman , Ouvrier exécution polyvalent ...</td>\n",
              "    </tr>\n",
              "    <tr>\n",
              "      <th>28447</th>\n",
              "      <td>82a3c631-6641-4627-a7a8-2e6ed1da3d2c</td>\n",
              "      <td>Employé contact clientèle , Acheteur , Comptab...</td>\n",
              "    </tr>\n",
              "  </tbody>\n",
              "</table>\n",
              "<p>28444 rows × 2 columns</p>\n",
              "</div>"
            ],
            "text/plain": [
              "                                  worker_id                                   list_professions\n",
              "0      52754c03-3853-485b-8cc2-95c53684675c  Electricien , Cariste , Employé contact client...\n",
              "1      eeb85a73-0801-4206-bf9a-17dfa8bb3ae6  Préparateur commandes , Ouvrier exécution poly...\n",
              "2      9dafeedd-8228-4543-abfd-a3ded0db696d  Assistant polyvalent Secrétaire , Employé cont...\n",
              "3      15ce0846-1241-4d14-9ed8-2292efaa386d  Mécanicien , Peintre , Ouvrier exécution milie...\n",
              "4      d40d5dce-3274-488b-a3f1-9947885fd94b  Ouvrier exécution polyvalent , Préparateur com...\n",
              "...                                     ...                                                ...\n",
              "28443  e87244a8-af6e-408b-914a-f72bce50ac95  Ouvrier exécution polyvalent , RH , Employé bu...\n",
              "28444  1eb57f55-3700-4b51-aed6-77ac6c7d8162  Ouvrier exécution milieu difficile , Assistant...\n",
              "28445  368cf021-c41f-4219-8ded-fe661b3592b3  Ouvrier exécution polyvalent , Assistant direc...\n",
              "28446  e54298d9-fa05-4a5e-8c0a-9521cc3e35df  Serveur barman , Ouvrier exécution polyvalent ...\n",
              "28447  82a3c631-6641-4627-a7a8-2e6ed1da3d2c  Employé contact clientèle , Acheteur , Comptab...\n",
              "\n",
              "[28444 rows x 2 columns]"
            ]
          },
          "metadata": {
            "tags": []
          },
          "execution_count": 18
        }
      ]
    },
    {
      "cell_type": "markdown",
      "metadata": {
        "id": "QHnk1G1d3jrW",
        "colab_type": "text"
      },
      "source": [
        "Maintenant que nous avons `list_professions` en chaine de caractères, la 1ère étape est de créer la sparse matrix tf-idf (term frequency-inverse document frequency) afin de connaitre l'importance de chaque mot dans cette colonne.\n"
      ]
    },
    {
      "cell_type": "code",
      "metadata": {
        "id": "c-qOSQSkjZiR",
        "colab_type": "code",
        "outputId": "57cc2a95-21b9-4515-fad1-69f8fcdfdb6c",
        "colab": {
          "base_uri": "https://localhost:8080/",
          "height": 932
        }
      },
      "source": [
        "from sklearn.feature_extraction.text import TfidfVectorizer\n",
        "\n",
        "#define vectorizer parameters\n",
        "tfidf_vectorizer = TfidfVectorizer()\n",
        "\n",
        "tfidf_matrix = tfidf_vectorizer.fit_transform(workers_sim['list_professions']) #fit the vectorizer \n",
        "\n",
        "print(tfidf_matrix.shape)\n",
        "print(tfidf_matrix)"
      ],
      "execution_count": 19,
      "outputs": [
        {
          "output_type": "stream",
          "text": [
            "(28444, 225)\n",
            "  (0, 65)\t0.1083697994440753\n",
            "  (0, 139)\t0.1083697994440753\n",
            "  (0, 165)\t0.0999436513349062\n",
            "  (0, 91)\t0.20332483818797742\n",
            "  (0, 154)\t0.20328892244672228\n",
            "  (0, 30)\t0.10821540234629921\n",
            "  (0, 13)\t0.5565771017394189\n",
            "  (0, 50)\t0.3193319433425262\n",
            "  (0, 46)\t0.10359708514472214\n",
            "  (0, 56)\t0.10378802635844099\n",
            "  (0, 79)\t0.20459355302173543\n",
            "  (0, 33)\t0.31651524407032977\n",
            "  (0, 75)\t0.5448390571753031\n",
            "  (1, 37)\t0.5047820804594162\n",
            "  (1, 96)\t0.5043987503206062\n",
            "  (1, 148)\t0.4270495299938275\n",
            "  (1, 8)\t0.26683912075369526\n",
            "  (1, 49)\t0.1857492491547749\n",
            "  (1, 170)\t0.1854525796198489\n",
            "  (1, 65)\t0.10167065276481312\n",
            "  (1, 139)\t0.10167065276481312\n",
            "  (1, 165)\t0.09376538780218562\n",
            "  (1, 91)\t0.19075581137842398\n",
            "  (1, 154)\t0.1907221158573778\n",
            "  (1, 30)\t0.10152580010478778\n",
            "  :\t:\n",
            "  (28442, 66)\t0.4976612200355432\n",
            "  (28442, 24)\t0.44541618650270487\n",
            "  (28442, 190)\t0.44541618650270487\n",
            "  (28442, 17)\t0.3247979286126008\n",
            "  (28442, 65)\t0.12392430555240415\n",
            "  (28442, 139)\t0.12392430555240415\n",
            "  (28442, 165)\t0.1142887377256929\n",
            "  (28442, 91)\t0.23250840643110177\n",
            "  (28442, 154)\t0.23246733564093447\n",
            "  (28442, 30)\t0.12374774757020468\n",
            "  (28442, 46)\t0.11846655525498304\n",
            "  (28442, 56)\t0.1186849025937511\n",
            "  (28442, 79)\t0.2339592221152134\n",
            "  (28443, 3)\t0.585997219989036\n",
            "  (28443, 106)\t0.5268664864476329\n",
            "  (28443, 52)\t0.4255793627830934\n",
            "  (28443, 65)\t0.11024745800349921\n",
            "  (28443, 139)\t0.11024745800349921\n",
            "  (28443, 165)\t0.10167531507657353\n",
            "  (28443, 91)\t0.20684772578881822\n",
            "  (28443, 154)\t0.20681118775704183\n",
            "  (28443, 30)\t0.1100903857597537\n",
            "  (28443, 46)\t0.10539204974418823\n",
            "  (28443, 56)\t0.10558629928186934\n",
            "  (28443, 79)\t0.20813842288404846\n"
          ],
          "name": "stdout"
        }
      ]
    },
    {
      "cell_type": "markdown",
      "metadata": {
        "id": "q5ldcJZl5ZkF",
        "colab_type": "text"
      },
      "source": [
        "On a ainsi 225 mots reconnus dans les listes de professions : "
      ]
    },
    {
      "cell_type": "code",
      "metadata": {
        "id": "KbHtrfH35Tkp",
        "colab_type": "code",
        "colab": {
          "base_uri": "https://localhost:8080/",
          "height": 1000
        },
        "outputId": "31f11ee7-a246-4137-a767-7bd73562b7e3"
      },
      "source": [
        "terms = tfidf_vectorizer.get_feature_names()\n",
        "terms"
      ],
      "execution_count": 20,
      "outputs": [
        {
          "output_type": "execute_result",
          "data": {
            "text/plain": [
              "['accompagnant',\n",
              " 'accompagnateur',\n",
              " 'accueil',\n",
              " 'acheteur',\n",
              " 'adjointe',\n",
              " 'administration',\n",
              " 'affaires',\n",
              " 'affrètement',\n",
              " 'agent',\n",
              " 'aide',\n",
              " 'ambulancier',\n",
              " 'analyse',\n",
              " 'animateur',\n",
              " 'animation',\n",
              " 'animatrice',\n",
              " 'approvisionneur',\n",
              " 'artistique',\n",
              " 'assistant',\n",
              " 'assitante',\n",
              " 'atelier',\n",
              " 'audit',\n",
              " 'auditeur',\n",
              " 'auxiliaire',\n",
              " 'avocat',\n",
              " 'barman',\n",
              " 'bilingue',\n",
              " 'biomédicale',\n",
              " 'bloc',\n",
              " 'bobinier',\n",
              " 'brancardier',\n",
              " 'bureau',\n",
              " 'bâtiment',\n",
              " 'caisse',\n",
              " 'cariste',\n",
              " 'carreleur',\n",
              " 'carrière',\n",
              " 'carrossier',\n",
              " 'chambre',\n",
              " 'chantier',\n",
              " 'chargé',\n",
              " 'charpentier',\n",
              " 'chaudronnier',\n",
              " 'chauffeur',\n",
              " 'chef',\n",
              " 'chercheur',\n",
              " 'clients',\n",
              " 'clientèle',\n",
              " 'coffreur',\n",
              " 'coiffeur',\n",
              " 'commandes',\n",
              " 'commercial',\n",
              " 'commis',\n",
              " 'comptable',\n",
              " 'conditionnement',\n",
              " 'conducteur',\n",
              " 'conseil',\n",
              " 'contact',\n",
              " 'contrôleur',\n",
              " 'coordinateur',\n",
              " 'couvreur',\n",
              " 'crèche',\n",
              " 'cuisine',\n",
              " 'câbleur',\n",
              " 'dentaire',\n",
              " 'dessinateur',\n",
              " 'difficile',\n",
              " 'direction',\n",
              " 'directrice',\n",
              " 'distributeur',\n",
              " 'distribution',\n",
              " 'défense',\n",
              " 'déménageur',\n",
              " 'développeur',\n",
              " 'echafaudeur',\n",
              " 'educateur',\n",
              " 'electricien',\n",
              " 'electromécanicien',\n",
              " 'electronicien',\n",
              " 'electrotechnicien',\n",
              " 'employé',\n",
              " 'enfants',\n",
              " 'engins',\n",
              " 'enrobés',\n",
              " 'enseignant',\n",
              " 'entretien',\n",
              " 'esthéticien',\n",
              " 'etancheur',\n",
              " 'examinateur',\n",
              " 'expert',\n",
              " 'expert_comptable',\n",
              " 'exploitation',\n",
              " 'exécution',\n",
              " 'fabrication',\n",
              " 'factotum',\n",
              " 'familiale',\n",
              " 'façadier',\n",
              " 'femme',\n",
              " 'finance',\n",
              " 'formateur',\n",
              " 'formation',\n",
              " 'fournisseurs',\n",
              " 'fraiseur',\n",
              " 'gestion',\n",
              " 'gestionnaire',\n",
              " 'graphisme',\n",
              " 'grutier',\n",
              " 'général',\n",
              " 'généraliste',\n",
              " 'hospitalier',\n",
              " 'hotliner',\n",
              " 'hôte',\n",
              " 'hôtesse',\n",
              " 'immobilière',\n",
              " 'industriel',\n",
              " 'infirmier',\n",
              " 'infirmière',\n",
              " 'informaticien',\n",
              " 'ingénieur',\n",
              " 'international',\n",
              " 'intervention',\n",
              " 'jardinier',\n",
              " 'jeunes',\n",
              " 'juridique',\n",
              " 'juriste',\n",
              " 'kinesithérapeute',\n",
              " 'laboratoire',\n",
              " 'laveur',\n",
              " 'ligne',\n",
              " 'logistique',\n",
              " 'magasinier',\n",
              " 'maintenance',\n",
              " 'management',\n",
              " 'manipulateur',\n",
              " 'manoeuvre',\n",
              " 'manutentionnaire',\n",
              " 'maçon',\n",
              " 'menuisier',\n",
              " 'merchandiser',\n",
              " 'messagerie',\n",
              " 'milieu',\n",
              " 'moniteur',\n",
              " 'mécanicien',\n",
              " 'médecin',\n",
              " 'médical',\n",
              " 'médicale',\n",
              " 'métreur',\n",
              " 'nacelliste',\n",
              " 'national',\n",
              " 'nettoyage',\n",
              " 'nuit',\n",
              " 'numériques',\n",
              " 'opérateur',\n",
              " 'opératoire',\n",
              " 'organisation',\n",
              " 'ouvrier',\n",
              " 'paie',\n",
              " 'paysagiste',\n",
              " 'peintre',\n",
              " 'personnes',\n",
              " 'pharmacie',\n",
              " 'pharmacien',\n",
              " 'pl',\n",
              " 'plaquiste',\n",
              " 'plombier',\n",
              " 'plongeur',\n",
              " 'polyvalent',\n",
              " 'postier',\n",
              " 'projet',\n",
              " 'projeteur',\n",
              " 'promotion',\n",
              " 'préparateur',\n",
              " 'puéricultrice',\n",
              " 'puériculture',\n",
              " 'radio',\n",
              " 'recouvrement',\n",
              " 'recrutement',\n",
              " 'restauration',\n",
              " 'rh',\n",
              " 'ripeur',\n",
              " 'réceptionnaire',\n",
              " 'réceptionniste',\n",
              " 'réseaux',\n",
              " 'sage',\n",
              " 'saisie',\n",
              " 'salle',\n",
              " 'santé',\n",
              " 'sav',\n",
              " 'second',\n",
              " 'secrétaire',\n",
              " 'serrurier',\n",
              " 'serveur',\n",
              " 'service',\n",
              " 'social',\n",
              " 'sociale',\n",
              " 'soignant',\n",
              " 'soudeur',\n",
              " 'spl',\n",
              " 'spécialisé',\n",
              " 'standardiste',\n",
              " 'stock',\n",
              " 'sécurité',\n",
              " 'technicien',\n",
              " 'technicienne',\n",
              " 'technique',\n",
              " 'tourneur',\n",
              " 'traducteur',\n",
              " 'transaction',\n",
              " 'transit',\n",
              " 'transport',\n",
              " 'travail',\n",
              " 'travaux',\n",
              " 'trésorerie',\n",
              " 'tuyauteur',\n",
              " 'téléprospecteur',\n",
              " 'veilleur',\n",
              " 'vendeur',\n",
              " 'ventes',\n",
              " 'vie',\n",
              " 'vitres',\n",
              " 'vl',\n",
              " 'éducateur',\n",
              " 'éducatif',\n",
              " 'équipe',\n",
              " 'étude',\n",
              " 'éveil']"
            ]
          },
          "metadata": {
            "tags": []
          },
          "execution_count": 20
        }
      ]
    },
    {
      "cell_type": "markdown",
      "metadata": {
        "id": "OKHS3VYz350h",
        "colab_type": "text"
      },
      "source": [
        "On peut pousser l'analyse à déterminer la similarité entre les valeurs de `list_professions` de chaque worker."
      ]
    },
    {
      "cell_type": "code",
      "metadata": {
        "id": "f9No1RX_0kCh",
        "colab_type": "code",
        "colab": {}
      },
      "source": [
        "#cosine similarity between documents \n",
        "from sklearn.metrics.pairwise import cosine_similarity\n",
        "similarity_matrix = cosine_similarity(tfidf_matrix)\n"
      ],
      "execution_count": 0,
      "outputs": []
    },
    {
      "cell_type": "markdown",
      "metadata": {
        "id": "esVTPL8y26bm",
        "colab_type": "text"
      },
      "source": [
        "On obtient ainsi une matrice de similarité de dimensions (28444,28444), ce qui est très élevé et va demander beaucoup de mémoire de calcul.\n",
        "\n",
        "On peut donc s'intéresser à la réduction de dimensions des features de `dist` afin de diminuer la dimension de cette matrice de similarité.\n",
        "\n",
        "> \n",
        "**N'ayant pas le temps d'effectuer une réduction de dimension, j'aurai utilisé soit une méthode linénaire  comme le PCA : principal component analysis) ou une méthode non-linéaire (Manifold)**"
      ]
    },
    {
      "cell_type": "markdown",
      "metadata": {
        "id": "Es551wb26ow7",
        "colab_type": "text"
      },
      "source": [
        "## Clustering\n",
        "Comme nous avons la matrice tfidf, nous pouvons essayer différents algorithmes de clustering.\n",
        "Le premier test se base sur le basique *KMeans*.\n"
      ]
    },
    {
      "cell_type": "markdown",
      "metadata": {
        "id": "OLY71Dj976A-",
        "colab_type": "text"
      },
      "source": [
        "### KMeans : single clustering\n",
        "\n",
        "J'utilise la méthode du coude (*elbow method*) pour déterminer le nombre de clusters à utiliser.\n",
        ">\n",
        "Je n'ai cependant pas eu le temps d'exécuter la commande, j'ai quand même créé un modèle avec `n_clusters = 5`."
      ]
    },
    {
      "cell_type": "code",
      "metadata": {
        "id": "IQQKuqjCkzPs",
        "colab_type": "code",
        "colab": {}
      },
      "source": [
        "from sklearn.cluster import KMeans\n",
        "\n",
        "# trouver le nombre de clusters optimaux\n",
        "Sum_of_squared_distances = []\n",
        "K = range(5,10)\n",
        "for k in K:\n",
        "    km = KMeans(n_clusters=k)\n",
        "    km = km.fit(tfidf_matrix)\n",
        "    Sum_of_squared_distances.append(km.inertia_)\n",
        "\n",
        "\n",
        "plt.plot(K, Sum_of_squared_distances, 'bx-')\n",
        "plt.xlabel('k')\n",
        "plt.ylabel('Sum_of_squared_distances')\n",
        "plt.title('Elbow Method For Optimal k')\n",
        "plt.show()\n"
      ],
      "execution_count": 0,
      "outputs": []
    },
    {
      "cell_type": "code",
      "metadata": {
        "id": "bllfp7eEI9hc",
        "colab_type": "code",
        "colab": {}
      },
      "source": [
        "km_model = KMeans(n_clusters=5)\n",
        "km_model = km_model.fit(tfidf_matrix)\n",
        "clusters = km_model.labels_.tolist()"
      ],
      "execution_count": 0,
      "outputs": []
    },
    {
      "cell_type": "markdown",
      "metadata": {
        "id": "JxFkl-bOJeNA",
        "colab_type": "text"
      },
      "source": [
        "je crée un nouveau dataframe en ajoutant les clusters trouvés pour chaque worker. "
      ]
    },
    {
      "cell_type": "code",
      "metadata": {
        "id": "hDCBbXANjSJ3",
        "colab_type": "code",
        "outputId": "53ddda39-9006-4b68-fcea-2275f8111b28",
        "colab": {
          "base_uri": "https://localhost:8080/",
          "height": 417
        }
      },
      "source": [
        "workers = {'worker_id': cleaned_workers['worker_id'], 'professions': cleaned_workers['list_professions'],'nb_months':cleaned_workers['nb_months'], 'cluster': clusters}\n",
        "\n",
        "clusterized_workers = pd.DataFrame(workers, columns = ['worker_id', 'professions','nb_months', 'cluster'])\n",
        "clusterized_workers"
      ],
      "execution_count": 52,
      "outputs": [
        {
          "output_type": "execute_result",
          "data": {
            "text/html": [
              "<div>\n",
              "<style scoped>\n",
              "    .dataframe tbody tr th:only-of-type {\n",
              "        vertical-align: middle;\n",
              "    }\n",
              "\n",
              "    .dataframe tbody tr th {\n",
              "        vertical-align: top;\n",
              "    }\n",
              "\n",
              "    .dataframe thead th {\n",
              "        text-align: right;\n",
              "    }\n",
              "</style>\n",
              "<table border=\"1\" class=\"dataframe\">\n",
              "  <thead>\n",
              "    <tr style=\"text-align: right;\">\n",
              "      <th></th>\n",
              "      <th>worker_id</th>\n",
              "      <th>professions</th>\n",
              "      <th>nb_months</th>\n",
              "      <th>cluster</th>\n",
              "    </tr>\n",
              "  </thead>\n",
              "  <tbody>\n",
              "    <tr>\n",
              "      <th>0</th>\n",
              "      <td>52754c03-3853-485b-8cc2-95c53684675c</td>\n",
              "      <td>[Electricien , Cariste , Employé contact clien...</td>\n",
              "      <td>[1, 107, 0, 1, 27, 0, 0, 0]</td>\n",
              "      <td>1</td>\n",
              "    </tr>\n",
              "    <tr>\n",
              "      <th>1</th>\n",
              "      <td>eeb85a73-0801-4206-bf9a-17dfa8bb3ae6</td>\n",
              "      <td>[Préparateur commandes , Ouvrier exécution pol...</td>\n",
              "      <td>[22, 0, 19, 0, 19, 0, 0]</td>\n",
              "      <td>1</td>\n",
              "    </tr>\n",
              "    <tr>\n",
              "      <th>2</th>\n",
              "      <td>9dafeedd-8228-4543-abfd-a3ded0db696d</td>\n",
              "      <td>[Assistant polyvalent Secrétaire , Employé con...</td>\n",
              "      <td>[13, 0, 0, 0, 0]</td>\n",
              "      <td>4</td>\n",
              "    </tr>\n",
              "    <tr>\n",
              "      <th>3</th>\n",
              "      <td>15ce0846-1241-4d14-9ed8-2292efaa386d</td>\n",
              "      <td>[Mécanicien , Peintre , Ouvrier exécution mili...</td>\n",
              "      <td>[22, 10, 0, 26, 5]</td>\n",
              "      <td>1</td>\n",
              "    </tr>\n",
              "    <tr>\n",
              "      <th>4</th>\n",
              "      <td>d40d5dce-3274-488b-a3f1-9947885fd94b</td>\n",
              "      <td>[Ouvrier exécution polyvalent , Préparateur co...</td>\n",
              "      <td>[0, 16, 0, 0, 0]</td>\n",
              "      <td>2</td>\n",
              "    </tr>\n",
              "    <tr>\n",
              "      <th>...</th>\n",
              "      <td>...</td>\n",
              "      <td>...</td>\n",
              "      <td>...</td>\n",
              "      <td>...</td>\n",
              "    </tr>\n",
              "    <tr>\n",
              "      <th>28443</th>\n",
              "      <td>e87244a8-af6e-408b-914a-f72bce50ac95</td>\n",
              "      <td>[Ouvrier exécution polyvalent , RH , Employé b...</td>\n",
              "      <td>[0, 0, 0, 17, 0, 0]</td>\n",
              "      <td>3</td>\n",
              "    </tr>\n",
              "    <tr>\n",
              "      <th>28444</th>\n",
              "      <td>1eb57f55-3700-4b51-aed6-77ac6c7d8162</td>\n",
              "      <td>[Ouvrier exécution milieu difficile , Assistan...</td>\n",
              "      <td>[0, 0, 0, 10, 0, 7, 15, 0]</td>\n",
              "      <td>4</td>\n",
              "    </tr>\n",
              "    <tr>\n",
              "      <th>28445</th>\n",
              "      <td>368cf021-c41f-4219-8ded-fe661b3592b3</td>\n",
              "      <td>[Ouvrier exécution polyvalent , Assistant dire...</td>\n",
              "      <td>[0, 0, 45, 0, 0, 0]</td>\n",
              "      <td>4</td>\n",
              "    </tr>\n",
              "    <tr>\n",
              "      <th>28446</th>\n",
              "      <td>e54298d9-fa05-4a5e-8c0a-9521cc3e35df</td>\n",
              "      <td>[Serveur barman , Ouvrier exécution polyvalent...</td>\n",
              "      <td>[5, 0, 0, 0, 0, 0]</td>\n",
              "      <td>4</td>\n",
              "    </tr>\n",
              "    <tr>\n",
              "      <th>28447</th>\n",
              "      <td>82a3c631-6641-4627-a7a8-2e6ed1da3d2c</td>\n",
              "      <td>[Employé contact clientèle , Acheteur , Compta...</td>\n",
              "      <td>[0, 210, 245, 0, 0, 0]</td>\n",
              "      <td>1</td>\n",
              "    </tr>\n",
              "  </tbody>\n",
              "</table>\n",
              "<p>28444 rows × 4 columns</p>\n",
              "</div>"
            ],
            "text/plain": [
              "                                  worker_id  ... cluster\n",
              "0      52754c03-3853-485b-8cc2-95c53684675c  ...       1\n",
              "1      eeb85a73-0801-4206-bf9a-17dfa8bb3ae6  ...       1\n",
              "2      9dafeedd-8228-4543-abfd-a3ded0db696d  ...       4\n",
              "3      15ce0846-1241-4d14-9ed8-2292efaa386d  ...       1\n",
              "4      d40d5dce-3274-488b-a3f1-9947885fd94b  ...       2\n",
              "...                                     ...  ...     ...\n",
              "28443  e87244a8-af6e-408b-914a-f72bce50ac95  ...       3\n",
              "28444  1eb57f55-3700-4b51-aed6-77ac6c7d8162  ...       4\n",
              "28445  368cf021-c41f-4219-8ded-fe661b3592b3  ...       4\n",
              "28446  e54298d9-fa05-4a5e-8c0a-9521cc3e35df  ...       4\n",
              "28447  82a3c631-6641-4627-a7a8-2e6ed1da3d2c  ...       1\n",
              "\n",
              "[28444 rows x 4 columns]"
            ]
          },
          "metadata": {
            "tags": []
          },
          "execution_count": 52
        }
      ]
    },
    {
      "cell_type": "markdown",
      "metadata": {
        "id": "mXGPhpi-DTRX",
        "colab_type": "text"
      },
      "source": [
        "#### Visualisation"
      ]
    },
    {
      "cell_type": "markdown",
      "metadata": {
        "id": "OSH3bVckJkLv",
        "colab_type": "text"
      },
      "source": [
        "Par manque de temps, je n'ai pas pu mettre en place de visualisation pour ce clustering.\n",
        "Cependant, j'aurai développé plusieurs graphes : \n",
        "- **scatterplot** de chaque clusters, avec en abscisse `worker_id` et en ordonnées `profession`. La couleur de chaque point serait le nombre de mois travaillé dans chaque professions. Comme il a une grande variance (entre 0 et 400 mois travaillés pour une expérience), on pourrait utiliser une échelle de couleur pour déterminer visuellement la différence d'expertise de chaque personne\n",
        "\n",
        "- un **bar plot** des 5 termes les plus fréquents pour chaque cluster.\n",
        "\n",
        "- potentiellement un **bubble plot** des workers avec en couleur leur cluster et en taille de point leur nombre de mois e'expériences cumulés."
      ]
    },
    {
      "cell_type": "code",
      "metadata": {
        "id": "No5G_S8cDRWT",
        "colab_type": "code",
        "colab": {}
      },
      "source": [
        ""
      ],
      "execution_count": 0,
      "outputs": []
    },
    {
      "cell_type": "markdown",
      "metadata": {
        "id": "XoyX9Qx3s8-u",
        "colab_type": "text"
      },
      "source": [
        "### CoClustering\n",
        "Après quelques recherches, j'ai découvert qu'il pouvait être intéressant de clusteriser les éléments sur les colonnes mais aussi sur les lignes afin d'obtenir de meilleurs groupements.\n",
        "J'utilise un module dédié pour cela, appelé **CoClust** "
      ]
    },
    {
      "cell_type": "code",
      "metadata": {
        "id": "IXO0iOjOqvr4",
        "colab_type": "code",
        "colab": {
          "base_uri": "https://localhost:8080/",
          "height": 266
        },
        "outputId": "95e40600-6540-49e2-dfda-43e529ffe79b"
      },
      "source": [
        "!pip install coclust"
      ],
      "execution_count": 23,
      "outputs": [
        {
          "output_type": "stream",
          "text": [
            "Collecting coclust\n",
            "  Downloading https://files.pythonhosted.org/packages/5d/44/ad5a69c7187c2b7bcf2c45596e9052811a3be52f4fcaa6709937c5146ee2/coclust-0.2.1.tar.gz\n",
            "Requirement already satisfied: numpy in /usr/local/lib/python3.6/dist-packages (from coclust) (1.18.3)\n",
            "Requirement already satisfied: scipy in /usr/local/lib/python3.6/dist-packages (from coclust) (1.4.1)\n",
            "Requirement already satisfied: scikit-learn in /usr/local/lib/python3.6/dist-packages (from coclust) (0.22.2.post1)\n",
            "Requirement already satisfied: joblib>=0.11 in /usr/local/lib/python3.6/dist-packages (from scikit-learn->coclust) (0.14.1)\n",
            "Building wheels for collected packages: coclust\n",
            "  Building wheel for coclust (setup.py) ... \u001b[?25l\u001b[?25hdone\n",
            "  Created wheel for coclust: filename=coclust-0.2.1-cp36-none-any.whl size=29872 sha256=ce8cc9f6a2c477497ee29fc0f071a1756e99ae47528caacb16ef83dc26116e83\n",
            "  Stored in directory: /root/.cache/pip/wheels/cd/d7/68/df601d0b5f8b934cf890dc626c2271df381fb0c3e910b0a34e\n",
            "Successfully built coclust\n",
            "Installing collected packages: coclust\n",
            "Successfully installed coclust-0.2.1\n"
          ],
          "name": "stdout"
        }
      ]
    },
    {
      "cell_type": "markdown",
      "metadata": {
        "id": "_5NVWZeX8r3L",
        "colab_type": "text"
      },
      "source": [
        "Afin de trouver quel est le nombre optimal de biclusters, j'utilise une méthode du module en mesurant la modularité de chaque modèle.\n"
      ]
    },
    {
      "cell_type": "code",
      "metadata": {
        "id": "b3gcmGkKq2kl",
        "colab_type": "code",
        "outputId": "72ba7a70-73c2-4526-ad57-135f0f058644",
        "colab": {
          "base_uri": "https://localhost:8080/",
          "height": 1000
        }
      },
      "source": [
        "from coclust.coclustering import CoclustMod\n",
        "from coclust.visualization import (plot_reorganized_matrix,\n",
        "                                  plot_cluster_top_terms,\n",
        "                                  plot_max_modularities, \n",
        "                                   get_term_graph)\n",
        "from coclust.evaluation.internal import best_modularity_partition\n",
        "import seaborn as sns\n",
        "# model = CoclustMod(n_clusters=5)\n",
        "# model.fit(tfidf_matrix)\n",
        "\n",
        "# print(model.modularity)\n",
        "# predicted_row_labels = model.row_labels_\n",
        "# predicted_column_labels = model.column_labels_\n",
        "\n",
        "\n",
        "# get the best co-clustering over a range of cluster numbers\n",
        "clusters_range = range(5, 20)\n",
        "model, modularities = best_modularity_partition(tfidf_matrix, clusters_range, n_rand_init=1)\n",
        "\n",
        "\n",
        "# plot the modularities over the range of cluster numbers\n",
        "plot_max_modularities(modularities, range(5, 20))\n",
        "\n"
      ],
      "execution_count": 34,
      "outputs": [
        {
          "output_type": "stream",
          "text": [
            "Computing coclust modularity for a range of cluster numbers =\n",
            " 5 ...\n"
          ],
          "name": "stdout"
        },
        {
          "output_type": "stream",
          "text": [
            "/usr/local/lib/python3.6/dist-packages/coclust/coclustering/coclust_mod.py:97: FutureWarning: 'warn_on_dtype' is deprecated in version 0.21 and will be removed in 0.23. Don't set `warn_on_dtype` to remove this warning.\n",
            "  warn_on_dtype=False, estimator=None)\n"
          ],
          "name": "stderr"
        },
        {
          "output_type": "stream",
          "text": [
            " 6 ...\n"
          ],
          "name": "stdout"
        },
        {
          "output_type": "stream",
          "text": [
            "/usr/local/lib/python3.6/dist-packages/coclust/coclustering/coclust_mod.py:97: FutureWarning: 'warn_on_dtype' is deprecated in version 0.21 and will be removed in 0.23. Don't set `warn_on_dtype` to remove this warning.\n",
            "  warn_on_dtype=False, estimator=None)\n"
          ],
          "name": "stderr"
        },
        {
          "output_type": "stream",
          "text": [
            " 7 ...\n"
          ],
          "name": "stdout"
        },
        {
          "output_type": "stream",
          "text": [
            "/usr/local/lib/python3.6/dist-packages/coclust/coclustering/coclust_mod.py:97: FutureWarning: 'warn_on_dtype' is deprecated in version 0.21 and will be removed in 0.23. Don't set `warn_on_dtype` to remove this warning.\n",
            "  warn_on_dtype=False, estimator=None)\n"
          ],
          "name": "stderr"
        },
        {
          "output_type": "stream",
          "text": [
            " 8 ...\n"
          ],
          "name": "stdout"
        },
        {
          "output_type": "stream",
          "text": [
            "/usr/local/lib/python3.6/dist-packages/coclust/coclustering/coclust_mod.py:97: FutureWarning: 'warn_on_dtype' is deprecated in version 0.21 and will be removed in 0.23. Don't set `warn_on_dtype` to remove this warning.\n",
            "  warn_on_dtype=False, estimator=None)\n"
          ],
          "name": "stderr"
        },
        {
          "output_type": "stream",
          "text": [
            " 9 ...\n"
          ],
          "name": "stdout"
        },
        {
          "output_type": "stream",
          "text": [
            "/usr/local/lib/python3.6/dist-packages/coclust/coclustering/coclust_mod.py:97: FutureWarning: 'warn_on_dtype' is deprecated in version 0.21 and will be removed in 0.23. Don't set `warn_on_dtype` to remove this warning.\n",
            "  warn_on_dtype=False, estimator=None)\n"
          ],
          "name": "stderr"
        },
        {
          "output_type": "stream",
          "text": [
            " 10 ...\n"
          ],
          "name": "stdout"
        },
        {
          "output_type": "stream",
          "text": [
            "/usr/local/lib/python3.6/dist-packages/coclust/coclustering/coclust_mod.py:97: FutureWarning: 'warn_on_dtype' is deprecated in version 0.21 and will be removed in 0.23. Don't set `warn_on_dtype` to remove this warning.\n",
            "  warn_on_dtype=False, estimator=None)\n"
          ],
          "name": "stderr"
        },
        {
          "output_type": "stream",
          "text": [
            " 11 ...\n"
          ],
          "name": "stdout"
        },
        {
          "output_type": "stream",
          "text": [
            "/usr/local/lib/python3.6/dist-packages/coclust/coclustering/coclust_mod.py:97: FutureWarning: 'warn_on_dtype' is deprecated in version 0.21 and will be removed in 0.23. Don't set `warn_on_dtype` to remove this warning.\n",
            "  warn_on_dtype=False, estimator=None)\n"
          ],
          "name": "stderr"
        },
        {
          "output_type": "stream",
          "text": [
            " 12 ...\n"
          ],
          "name": "stdout"
        },
        {
          "output_type": "stream",
          "text": [
            "/usr/local/lib/python3.6/dist-packages/coclust/coclustering/coclust_mod.py:97: FutureWarning: 'warn_on_dtype' is deprecated in version 0.21 and will be removed in 0.23. Don't set `warn_on_dtype` to remove this warning.\n",
            "  warn_on_dtype=False, estimator=None)\n"
          ],
          "name": "stderr"
        },
        {
          "output_type": "stream",
          "text": [
            " 13 ...\n"
          ],
          "name": "stdout"
        },
        {
          "output_type": "stream",
          "text": [
            "/usr/local/lib/python3.6/dist-packages/coclust/coclustering/coclust_mod.py:97: FutureWarning: 'warn_on_dtype' is deprecated in version 0.21 and will be removed in 0.23. Don't set `warn_on_dtype` to remove this warning.\n",
            "  warn_on_dtype=False, estimator=None)\n"
          ],
          "name": "stderr"
        },
        {
          "output_type": "stream",
          "text": [
            " 14 ...\n"
          ],
          "name": "stdout"
        },
        {
          "output_type": "stream",
          "text": [
            "/usr/local/lib/python3.6/dist-packages/coclust/coclustering/coclust_mod.py:97: FutureWarning: 'warn_on_dtype' is deprecated in version 0.21 and will be removed in 0.23. Don't set `warn_on_dtype` to remove this warning.\n",
            "  warn_on_dtype=False, estimator=None)\n"
          ],
          "name": "stderr"
        },
        {
          "output_type": "stream",
          "text": [
            " 15 ...\n"
          ],
          "name": "stdout"
        },
        {
          "output_type": "stream",
          "text": [
            "/usr/local/lib/python3.6/dist-packages/coclust/coclustering/coclust_mod.py:97: FutureWarning: 'warn_on_dtype' is deprecated in version 0.21 and will be removed in 0.23. Don't set `warn_on_dtype` to remove this warning.\n",
            "  warn_on_dtype=False, estimator=None)\n"
          ],
          "name": "stderr"
        },
        {
          "output_type": "stream",
          "text": [
            " 16 ...\n"
          ],
          "name": "stdout"
        },
        {
          "output_type": "stream",
          "text": [
            "/usr/local/lib/python3.6/dist-packages/coclust/coclustering/coclust_mod.py:97: FutureWarning: 'warn_on_dtype' is deprecated in version 0.21 and will be removed in 0.23. Don't set `warn_on_dtype` to remove this warning.\n",
            "  warn_on_dtype=False, estimator=None)\n"
          ],
          "name": "stderr"
        },
        {
          "output_type": "stream",
          "text": [
            " 17 ...\n"
          ],
          "name": "stdout"
        },
        {
          "output_type": "stream",
          "text": [
            "/usr/local/lib/python3.6/dist-packages/coclust/coclustering/coclust_mod.py:97: FutureWarning: 'warn_on_dtype' is deprecated in version 0.21 and will be removed in 0.23. Don't set `warn_on_dtype` to remove this warning.\n",
            "  warn_on_dtype=False, estimator=None)\n"
          ],
          "name": "stderr"
        },
        {
          "output_type": "stream",
          "text": [
            " 18 ...\n"
          ],
          "name": "stdout"
        },
        {
          "output_type": "stream",
          "text": [
            "/usr/local/lib/python3.6/dist-packages/coclust/coclustering/coclust_mod.py:97: FutureWarning: 'warn_on_dtype' is deprecated in version 0.21 and will be removed in 0.23. Don't set `warn_on_dtype` to remove this warning.\n",
            "  warn_on_dtype=False, estimator=None)\n"
          ],
          "name": "stderr"
        },
        {
          "output_type": "stream",
          "text": [
            " 19 ...\n"
          ],
          "name": "stdout"
        },
        {
          "output_type": "stream",
          "text": [
            "/usr/local/lib/python3.6/dist-packages/coclust/coclustering/coclust_mod.py:97: FutureWarning: 'warn_on_dtype' is deprecated in version 0.21 and will be removed in 0.23. Don't set `warn_on_dtype` to remove this warning.\n",
            "  warn_on_dtype=False, estimator=None)\n"
          ],
          "name": "stderr"
        },
        {
          "output_type": "stream",
          "text": [
            " All done !\n"
          ],
          "name": "stdout"
        },
        {
          "output_type": "display_data",
          "data": {
            "image/png": "[encoded data removed]",
            "text/plain": [
              "<Figure size 432x288 with 1 Axes>"
            ]
          },
          "metadata": {
            "tags": []
          }
        }
      ]
    },
    {
      "cell_type": "markdown",
      "metadata": {
        "id": "7ZMcBtdv_40-",
        "colab_type": "text"
      },
      "source": [
        "Nous allons donc utiliser 15 bi-clusters"
      ]
    },
    {
      "cell_type": "markdown",
      "metadata": {
        "id": "QPgHbhtJFnjr",
        "colab_type": "text"
      },
      "source": [
        "#### Visualisation"
      ]
    },
    {
      "cell_type": "code",
      "metadata": {
        "id": "wq2RSwCv9deY",
        "colab_type": "code",
        "colab": {
          "base_uri": "https://localhost:8080/",
          "height": 661
        },
        "outputId": "4fbe18cc-b354-4f7a-8eb0-7c21aaf52406"
      },
      "source": [
        "biclust_model = CoclustMod(n_clusters=15)\n",
        "biclust_model.fit(tfidf_matrix)\n",
        "\n",
        "print('model modularity:', biclust_model.modularity)\n",
        "\n",
        "# plot des 5 termes les plus fréquents pour chaque cluster pour le modèle \n",
        "\n",
        "plot_cluster_top_terms(tfidf_matrix, terms, n_terms, biclust_model)\n",
        "\n"
      ],
      "execution_count": 41,
      "outputs": [
        {
          "output_type": "stream",
          "text": [
            "/usr/local/lib/python3.6/dist-packages/coclust/coclustering/coclust_mod.py:97: FutureWarning: 'warn_on_dtype' is deprecated in version 0.21 and will be removed in 0.23. Don't set `warn_on_dtype` to remove this warning.\n",
            "  warn_on_dtype=False, estimator=None)\n"
          ],
          "name": "stderr"
        },
        {
          "output_type": "stream",
          "text": [
            "model modularity: 0.28157493104703846\n"
          ],
          "name": "stdout"
        },
        {
          "output_type": "stream",
          "text": [
            "/usr/local/lib/python3.6/dist-packages/coclust/visualization/__init__.py:228: UserWarning: Tight layout not applied. tight_layout cannot make axes height small enough to accommodate all axes decorations\n",
            "  plt.tight_layout()\n"
          ],
          "name": "stderr"
        },
        {
          "output_type": "display_data",
          "data": {
            "image/png": "[encoded data removed]",
            "text/plain": [
              "<Figure size 576x576 with 15 Axes>"
            ]
          },
          "metadata": {
            "tags": []
          }
        }
      ]
    },
    {
      "cell_type": "markdown",
      "metadata": {
        "id": "eRLaQWf2LHRF",
        "colab_type": "text"
      },
      "source": [
        "# Difficultés rencontrées"
      ]
    },
    {
      "cell_type": "markdown",
      "metadata": {
        "id": "b0wQingPLJW8",
        "colab_type": "text"
      },
      "source": [
        "Je pense avoir manqué de temps afin d'exploiter et développer correctemment ce projet (notamment la visualisation des données), cependant j'ai eu quelques difficultés à comprendre comment fonctionnait le biclustering.\n",
        "Je suis conscient que mon travail est loin d'être parfait mais j'espère qu'il aura tout de même permis de montrer mon potentiel.\n"
      ]
    }
  ]
}